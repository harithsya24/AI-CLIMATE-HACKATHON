{
  "nbformat": 4,
  "nbformat_minor": 0,
  "metadata": {
    "colab": {
      "provenance": []
    },
    "kernelspec": {
      "name": "python3",
      "display_name": "Python 3"
    },
    "language_info": {
      "name": "python"
    }
  },
  "cells": [
    {
      "cell_type": "code",
      "execution_count": 1,
      "metadata": {
        "colab": {
          "base_uri": "https://localhost:8080/"
        },
        "id": "nzju0FnrcGS2",
        "outputId": "16d6dc65-1d2e-4ecc-8ea4-1c5dba30b547"
      },
      "outputs": [
        {
          "output_type": "stream",
          "name": "stdout",
          "text": [
            "Collecting osmnx\n",
            "  Downloading osmnx-1.9.4-py3-none-any.whl.metadata (4.9 kB)\n",
            "Requirement already satisfied: networkx in /usr/local/lib/python3.10/dist-packages (3.3)\n",
            "Requirement already satisfied: folium in /usr/local/lib/python3.10/dist-packages (0.17.0)\n",
            "Collecting geopandas<0.15,>=0.12 (from osmnx)\n",
            "  Downloading geopandas-0.14.4-py3-none-any.whl.metadata (1.5 kB)\n",
            "Requirement already satisfied: numpy<1.27,>=1.20 in /usr/local/lib/python3.10/dist-packages (from osmnx) (1.26.4)\n",
            "Requirement already satisfied: pandas<2.3,>=1.1 in /usr/local/lib/python3.10/dist-packages (from osmnx) (2.1.4)\n",
            "Requirement already satisfied: requests<2.33,>=2.27 in /usr/local/lib/python3.10/dist-packages (from osmnx) (2.32.3)\n",
            "Requirement already satisfied: shapely<2.1,>=2.0 in /usr/local/lib/python3.10/dist-packages (from osmnx) (2.0.6)\n",
            "Requirement already satisfied: branca>=0.6.0 in /usr/local/lib/python3.10/dist-packages (from folium) (0.7.2)\n",
            "Requirement already satisfied: jinja2>=2.9 in /usr/local/lib/python3.10/dist-packages (from folium) (3.1.4)\n",
            "Requirement already satisfied: xyzservices in /usr/local/lib/python3.10/dist-packages (from folium) (2024.9.0)\n",
            "Collecting fiona>=1.8.21 (from geopandas<0.15,>=0.12->osmnx)\n",
            "  Downloading fiona-1.10.1-cp310-cp310-manylinux_2_17_x86_64.manylinux2014_x86_64.whl.metadata (56 kB)\n",
            "\u001b[2K     \u001b[90m━━━━━━━━━━━━━━━━━━━━━━━━━━━━━━━━━━━━━━━━\u001b[0m \u001b[32m56.6/56.6 kB\u001b[0m \u001b[31m2.2 MB/s\u001b[0m eta \u001b[36m0:00:00\u001b[0m\n",
            "\u001b[?25hRequirement already satisfied: packaging in /usr/local/lib/python3.10/dist-packages (from geopandas<0.15,>=0.12->osmnx) (24.1)\n",
            "Requirement already satisfied: pyproj>=3.3.0 in /usr/local/lib/python3.10/dist-packages (from geopandas<0.15,>=0.12->osmnx) (3.6.1)\n",
            "Requirement already satisfied: MarkupSafe>=2.0 in /usr/local/lib/python3.10/dist-packages (from jinja2>=2.9->folium) (2.1.5)\n",
            "Requirement already satisfied: python-dateutil>=2.8.2 in /usr/local/lib/python3.10/dist-packages (from pandas<2.3,>=1.1->osmnx) (2.8.2)\n",
            "Requirement already satisfied: pytz>=2020.1 in /usr/local/lib/python3.10/dist-packages (from pandas<2.3,>=1.1->osmnx) (2024.2)\n",
            "Requirement already satisfied: tzdata>=2022.1 in /usr/local/lib/python3.10/dist-packages (from pandas<2.3,>=1.1->osmnx) (2024.1)\n",
            "Requirement already satisfied: charset-normalizer<4,>=2 in /usr/local/lib/python3.10/dist-packages (from requests<2.33,>=2.27->osmnx) (3.3.2)\n",
            "Requirement already satisfied: idna<4,>=2.5 in /usr/local/lib/python3.10/dist-packages (from requests<2.33,>=2.27->osmnx) (3.10)\n",
            "Requirement already satisfied: urllib3<3,>=1.21.1 in /usr/local/lib/python3.10/dist-packages (from requests<2.33,>=2.27->osmnx) (2.0.7)\n",
            "Requirement already satisfied: certifi>=2017.4.17 in /usr/local/lib/python3.10/dist-packages (from requests<2.33,>=2.27->osmnx) (2024.8.30)\n",
            "Requirement already satisfied: attrs>=19.2.0 in /usr/local/lib/python3.10/dist-packages (from fiona>=1.8.21->geopandas<0.15,>=0.12->osmnx) (24.2.0)\n",
            "Requirement already satisfied: click~=8.0 in /usr/local/lib/python3.10/dist-packages (from fiona>=1.8.21->geopandas<0.15,>=0.12->osmnx) (8.1.7)\n",
            "Collecting click-plugins>=1.0 (from fiona>=1.8.21->geopandas<0.15,>=0.12->osmnx)\n",
            "  Downloading click_plugins-1.1.1-py2.py3-none-any.whl.metadata (6.4 kB)\n",
            "Collecting cligj>=0.5 (from fiona>=1.8.21->geopandas<0.15,>=0.12->osmnx)\n",
            "  Downloading cligj-0.7.2-py3-none-any.whl.metadata (5.0 kB)\n",
            "Requirement already satisfied: six>=1.5 in /usr/local/lib/python3.10/dist-packages (from python-dateutil>=2.8.2->pandas<2.3,>=1.1->osmnx) (1.16.0)\n",
            "Downloading osmnx-1.9.4-py3-none-any.whl (107 kB)\n",
            "\u001b[2K   \u001b[90m━━━━━━━━━━━━━━━━━━━━━━━━━━━━━━━━━━━━━━━━\u001b[0m \u001b[32m107.5/107.5 kB\u001b[0m \u001b[31m5.5 MB/s\u001b[0m eta \u001b[36m0:00:00\u001b[0m\n",
            "\u001b[?25hDownloading geopandas-0.14.4-py3-none-any.whl (1.1 MB)\n",
            "\u001b[2K   \u001b[90m━━━━━━━━━━━━━━━━━━━━━━━━━━━━━━━━━━━━━━━━\u001b[0m \u001b[32m1.1/1.1 MB\u001b[0m \u001b[31m28.1 MB/s\u001b[0m eta \u001b[36m0:00:00\u001b[0m\n",
            "\u001b[?25hDownloading fiona-1.10.1-cp310-cp310-manylinux_2_17_x86_64.manylinux2014_x86_64.whl (17.3 MB)\n",
            "\u001b[2K   \u001b[90m━━━━━━━━━━━━━━━━━━━━━━━━━━━━━━━━━━━━━━━━\u001b[0m \u001b[32m17.3/17.3 MB\u001b[0m \u001b[31m59.7 MB/s\u001b[0m eta \u001b[36m0:00:00\u001b[0m\n",
            "\u001b[?25hDownloading click_plugins-1.1.1-py2.py3-none-any.whl (7.5 kB)\n",
            "Downloading cligj-0.7.2-py3-none-any.whl (7.1 kB)\n",
            "Installing collected packages: cligj, click-plugins, fiona, geopandas, osmnx\n",
            "  Attempting uninstall: geopandas\n",
            "    Found existing installation: geopandas 1.0.1\n",
            "    Uninstalling geopandas-1.0.1:\n",
            "      Successfully uninstalled geopandas-1.0.1\n",
            "Successfully installed click-plugins-1.1.1 cligj-0.7.2 fiona-1.10.1 geopandas-0.14.4 osmnx-1.9.4\n"
          ]
        }
      ],
      "source": [
        "!pip install osmnx networkx folium"
      ]
    },
    {
      "cell_type": "code",
      "source": [
        "import osmnx as ox\n",
        "import networkx as nx\n",
        "import folium\n",
        "\n",
        "# Input source and destination coordinates from the user (latitude and longitude)\n",
        "source_lat = float(input(\"Enter the latitude for the source location: \"))\n",
        "source_lon = float(input(\"Enter the longitude for the source location: \"))\n",
        "destination_lat = float(input(\"Enter the latitude for the destination location: \"))\n",
        "destination_lon = float(input(\"Enter the longitude for the destination location: \"))\n",
        "\n",
        "# Define source and destination based on user input\n",
        "source = (source_lat, source_lon)\n",
        "destination = (destination_lat, destination_lon)\n",
        "\n",
        "# Fetch the street network for the driving route\n",
        "G = ox.graph_from_point(source, dist=5000, network_type='drive')\n",
        "\n",
        "# Find the nearest nodes to source and destination points\n",
        "orig_node = ox.distance.nearest_nodes(G, source[1], source[0])\n",
        "dest_node = ox.distance.nearest_nodes(G, destination[1], destination[0])\n",
        "\n",
        "# Calculate the shortest path based on distance\n",
        "shortest_route = nx.shortest_path(G, orig_node, dest_node, weight='length')\n",
        "\n",
        "# Get route coordinates for mapping\n",
        "route_map = ox.plot_route_folium(G, shortest_route)\n",
        "\n",
        "# Calculate the total distance of the route (in meters)\n",
        "route_length_meters = nx.shortest_path_length(G, orig_node, dest_node, weight='length')\n",
        "\n",
        "# Convert distance to kilometers and then to miles\n",
        "route_length_km = route_length_meters / 1000  # convert to kilometers\n",
        "route_length_miles = route_length_km * 0.621371  # convert to miles\n",
        "\n",
        "# Define carbon emission factors (grams of CO2 per mile)\n",
        "emission_factor = {\"car\": 241, \"bus\": 160, \"bike\": 0}  # grams CO2 per mile for different transport modes\n",
        "\n",
        "# Calculate estimated carbon emission for this route (assuming car)\n",
        "carbon_emission = route_length_miles * emission_factor[\"car\"]\n",
        "\n",
        "# Add markers for source and destination on the map\n",
        "folium.Marker(location=source, popup='Source Location').add_to(route_map)\n",
        "folium.Marker(location=destination, popup='Destination Location').add_to(route_map)\n",
        "\n",
        "# Display the map with the shortest route\n",
        "route_map\n",
        "\n",
        "# Output total distance and estimated carbon emissions\n",
        "print(f\"Total distance: {route_length_miles:.2f} miles\")\n",
        "print(f\"Estimated carbon emission: {carbon_emission:.2f} grams CO2\")\n"
      ],
      "metadata": {
        "colab": {
          "base_uri": "https://localhost:8080/"
        },
        "id": "xRnzCv2JcUpJ",
        "outputId": "19c63a9e-abef-4036-ba47-78582c2e5df9"
      },
      "execution_count": 3,
      "outputs": [
        {
          "name": "stdout",
          "output_type": "stream",
          "text": [
            "Enter the latitude for the source location: 40.7580\n",
            "Enter the longitude for the source location: -73.9855\n",
            "Enter the latitude for the destination location: 40.7061\n",
            "Enter the longitude for the destination location: -73.9969\n"
          ]
        },
        {
          "output_type": "stream",
          "name": "stderr",
          "text": [
            "/usr/local/lib/python3.10/dist-packages/osmnx/graph.py:191: FutureWarning: The expected order of coordinates in `bbox` will change in the v2.0.0 release to `(left, bottom, right, top)`.\n",
            "  G = graph_from_bbox(\n"
          ]
        },
        {
          "output_type": "stream",
          "name": "stdout",
          "text": [
            "Total distance: 3.57 miles\n",
            "Estimated carbon emission: 861.15 grams CO2\n"
          ]
        },
        {
          "output_type": "stream",
          "name": "stderr",
          "text": [
            "<ipython-input-3-668f03669386>:26: FutureWarning: The `folium` module has been deprecated and will be removed in the v2.0.0 release. You can generate and explore interactive web maps of graph nodes, edges, and/or routes automatically using GeoPandas.GeoDataFrame.explore instead, for example like: `ox.graph_to_gdfs(G, nodes=False).explore()`. See the OSMnx examples gallery for complete details and demonstrations.\n",
            "  route_map = ox.plot_route_folium(G, shortest_route)\n"
          ]
        }
      ]
    },
    {
      "cell_type": "code",
      "source": [
        "# CO2 emissions per mile (in grams)\n",
        "emissions_per_mile = {\n",
        "    'Car': 240,\n",
        "    'Bus': 176.9,\n",
        "    'Subway': 60,\n",
        "    'Train': 45,\n",
        "    'Ferry': 150,\n",
        "    'Bicycle': 0,\n",
        "    'Walking': 0\n",
        "}\n",
        "\n",
        "# Function to calculate CO2 emissions\n",
        "def calculate_emissions(mode_of_transport, miles):\n",
        "    if mode_of_transport in emissions_per_mile:\n",
        "        return emissions_per_mile[mode_of_transport] * miles\n",
        "    else:\n",
        "        print(\"Invalid mode of transport.\")\n",
        "        return None\n",
        "\n",
        "# Example usage\n",
        "mode = input(\"Enter mode of transport (Car, Bus, Subway, Train, Ferry, Bicycle, Walking): \")\n",
        "miles = route_length_miles\n",
        "\n",
        "emissions = calculate_emissions(mode, miles)\n",
        "\n",
        "if emissions is not None:\n",
        "    print(f\"Estimated CO2 emissions for {miles} miles using {mode}: {emissions:.2f} grams\")\n"
      ],
      "metadata": {
        "colab": {
          "base_uri": "https://localhost:8080/"
        },
        "id": "GsNMRnsyf8pQ",
        "outputId": "4ac6bba1-f938-46b4-a2fe-7b106841723a"
      },
      "execution_count": 8,
      "outputs": [
        {
          "output_type": "stream",
          "name": "stdout",
          "text": [
            "Enter mode of transport (Car, Bus, Subway, Train, Ferry, Bicycle, Walking): Car\n",
            "Estimated CO2 emissions for 3.573221275824 miles using Car: 857.57 grams\n"
          ]
        }
      ]
    },
    {
      "cell_type": "code",
      "source": [
        "import osmnx as ox\n",
        "import networkx as nx\n",
        "import folium\n",
        "\n",
        "# Function to validate latitude and longitude\n",
        "def validate_coordinates(lat, lon):\n",
        "    return -90 <= lat <= 90 and -180 <= lon <= 180\n",
        "\n",
        "# Input source and destination coordinates from the user (latitude and longitude)\n",
        "source_lat = float(input(\"Enter the latitude for the source location: \")) #40.7580\n",
        "source_lon = float(input(\"Enter the longitude for the source location: \")) #-73.985\n",
        "destination_lat = float(input(\"Enter the latitude for the destination location: \")) #40.7061\n",
        "destination_lon = float(input(\"Enter the longitude for the destination location: \")) #-73.9969\n",
        "\n",
        "\n",
        "\n",
        "# Validate coordinates\n",
        "if not (validate_coordinates(source_lat, source_lon) and validate_coordinates(destination_lat, destination_lon)):\n",
        "    print(\"Invalid coordinates entered. Please check the latitude and longitude values.\")\n",
        "else:\n",
        "    # Define source and destination based on user input\n",
        "    source = (source_lat, source_lon)\n",
        "    destination = (destination_lat, destination_lon)\n",
        "\n",
        "    # Fetch the street network for the driving route\n",
        "    G = ox.graph_from_point(source, dist=5000, network_type='drive')\n",
        "\n",
        "    # Find the nearest nodes to source and destination points\n",
        "    orig_node = ox.distance.nearest_nodes(G, source[1], source[0])\n",
        "    dest_node = ox.distance.nearest_nodes(G, destination[1], destination[0])\n",
        "\n",
        "    # Calculate the shortest path based on distance\n",
        "    shortest_route = nx.shortest_path(G, orig_node, dest_node, weight='length')\n",
        "\n",
        "    # Get route coordinates for mapping\n",
        "    route_map = ox.plot_route_folium(G, shortest_route)\n",
        "\n",
        "    # Calculate the total distance of the route (in meters)\n",
        "    route_length_meters = nx.shortest_path_length(G, orig_node, dest_node, weight='length')\n",
        "\n",
        "    # Convert distance to kilometers and then to miles\n",
        "    route_length_km = route_length_meters / 1000  # convert to kilometers\n",
        "    route_length_miles = route_length_km * 0.621371  # convert to miles\n",
        "\n",
        "    # CO2 emissions per mile (in grams)\n",
        "    emissions_per_mile = {\n",
        "        'Car': 240,\n",
        "        'Bus': 176.9,\n",
        "        'Subway': 60,\n",
        "        'Train': 45,\n",
        "        'Ferry': 150\n",
        "    }\n",
        "\n",
        "    # Calculate emissions for all modes of transport\n",
        "    emissions_results = {}\n",
        "    for mode, emission_rate in emissions_per_mile.items():\n",
        "        emissions_results[mode] = emission_rate * route_length_miles\n",
        "\n",
        "    # Find the mode with the minimal emissions\n",
        "    min_mode = min(emissions_results, key=emissions_results.get)\n",
        "    min_emission = emissions_results[min_mode]\n",
        "\n",
        "    # Add markers for source and destination on the map\n",
        "    folium.Marker(location=source, popup='Source Location').add_to(route_map)\n",
        "    folium.Marker(location=destination, popup='Destination Location').add_to(route_map)\n",
        "\n",
        "    # Display the map with the shortest route\n",
        "    route_map\n",
        "\n",
        "    # Output total distance and estimated carbon emissions for all modes\n",
        "    print(f\"Total distance: {route_length_miles:.2f} miles\")\n",
        "    print(\"\\nEstimated CO2 emissions for each mode of transport:\")\n",
        "    for mode, emissions in emissions_results.items():\n",
        "        print(f\"{mode}: {emissions:.2f} grams\")\n",
        "\n",
        "    # Output the mode with minimal emissions\n",
        "    print(f\"\\nMode with minimal emissions: {min_mode} with {min_emission:.2f} grams CO2\")\n"
      ],
      "metadata": {
        "colab": {
          "base_uri": "https://localhost:8080/"
        },
        "id": "pKbCTctIiOUD",
        "outputId": "e56661da-1dce-47a9-bf09-9e30ee6f0f68"
      },
      "execution_count": 11,
      "outputs": [
        {
          "name": "stdout",
          "output_type": "stream",
          "text": [
            "Enter the latitude for the source location: 40.7580\n",
            "Enter the longitude for the source location: -73.985\n",
            "Enter the latitude for the destination location: 40.7061\n",
            "Enter the longitude for the destination location: -73.9969\n"
          ]
        },
        {
          "output_type": "stream",
          "name": "stderr",
          "text": [
            "/usr/local/lib/python3.10/dist-packages/osmnx/graph.py:191: FutureWarning: The expected order of coordinates in `bbox` will change in the v2.0.0 release to `(left, bottom, right, top)`.\n",
            "  G = graph_from_bbox(\n"
          ]
        },
        {
          "output_type": "stream",
          "name": "stdout",
          "text": [
            "Total distance: 3.57 miles\n",
            "\n",
            "Estimated CO2 emissions for each mode of transport:\n",
            "Car: 857.57 grams\n",
            "Bus: 632.10 grams\n",
            "Subway: 214.39 grams\n",
            "Train: 160.79 grams\n",
            "Ferry: 535.98 grams\n",
            "\n",
            "Mode with minimal emissions: Train with 160.79 grams CO2\n"
          ]
        },
        {
          "output_type": "stream",
          "name": "stderr",
          "text": [
            "<ipython-input-11-d6268cbc4fbb>:36: FutureWarning: The `folium` module has been deprecated and will be removed in the v2.0.0 release. You can generate and explore interactive web maps of graph nodes, edges, and/or routes automatically using GeoPandas.GeoDataFrame.explore instead, for example like: `ox.graph_to_gdfs(G, nodes=False).explore()`. See the OSMnx examples gallery for complete details and demonstrations.\n",
            "  route_map = ox.plot_route_folium(G, shortest_route)\n"
          ]
        }
      ]
    }
  ]
}