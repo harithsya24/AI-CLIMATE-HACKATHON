{
  "nbformat": 4,
  "nbformat_minor": 0,
  "metadata": {
    "colab": {
      "provenance": []
    },
    "kernelspec": {
      "name": "python3",
      "display_name": "Python 3"
    },
    "language_info": {
      "name": "python"
    }
  },
  "cells": [
    {
      "cell_type": "code",
      "source": [
        "!pip install openpyxl\n",
        "\n"
      ],
      "metadata": {
        "colab": {
          "base_uri": "https://localhost:8080/"
        },
        "id": "5refFalYLp11",
        "outputId": "46f7035b-eb41-42bd-a074-a5c271f47311"
      },
      "execution_count": 14,
      "outputs": [
        {
          "output_type": "stream",
          "name": "stdout",
          "text": [
            "Requirement already satisfied: openpyxl in /usr/local/lib/python3.10/dist-packages (3.1.5)\n",
            "Requirement already satisfied: et-xmlfile in /usr/local/lib/python3.10/dist-packages (from openpyxl) (1.1.0)\n"
          ]
        }
      ]
    },
    {
      "cell_type": "code",
      "source": [
        "import pandas as pd\n",
        "\n",
        "# Load your CSV file (replace 'your_file.csv' with the actual file name)\n",
        "data = pd.read_csv('data.csv')"
      ],
      "metadata": {
        "id": "5rBGcvX3V-iJ"
      },
      "execution_count": 24,
      "outputs": []
    },
    {
      "cell_type": "code",
      "source": [
        "print(data.columns)\n"
      ],
      "metadata": {
        "colab": {
          "base_uri": "https://localhost:8080/"
        },
        "id": "Gc_8_XDFWjWP",
        "outputId": "7aaf57fd-0cef-413a-ac24-f1bad0e0deca"
      },
      "execution_count": 25,
      "outputs": [
        {
          "output_type": "stream",
          "name": "stdout",
          "text": [
            "Index(['City Zip Code', 'Latitude', 'Longitude', 'Street Name'], dtype='object')\n"
          ]
        }
      ]
    },
    {
      "cell_type": "code",
      "source": [
        "print(data.columns.tolist())\n"
      ],
      "metadata": {
        "colab": {
          "base_uri": "https://localhost:8080/"
        },
        "id": "XnDN7m-eXDac",
        "outputId": "162e10e6-ec26-455a-fb08-6204c6748b17"
      },
      "execution_count": 27,
      "outputs": [
        {
          "output_type": "stream",
          "name": "stdout",
          "text": [
            "['City Zip Code', 'Latitude', 'Longitude', 'Street Name']\n"
          ]
        }
      ]
    },
    {
      "cell_type": "code",
      "source": [
        "import pandas as pd\n",
        "from geopy.distance import great_circle\n",
        "\n",
        "# Load your CSV file\n",
        "data = pd.read_csv('data.csv')\n",
        "\n",
        "# Print column names for debugging\n",
        "#print(\"Original Column Names:\", data.columns.tolist())\n",
        "\n",
        "# Trim any extra spaces from column names\n",
        "data.columns = data.columns.str.strip()\n",
        "\n",
        "# Print the cleaned column names\n",
        "#print(\"Cleaned Column Names:\", data.columns.tolist())\n",
        "\n",
        "# Function to find the nearest drop-off location\n",
        "def find_nearest_drop_off(user_location):\n",
        "    nearest_location = None\n",
        "    nearest_distance = float('inf')\n",
        "\n",
        "    for index, row in data.iterrows():\n",
        "        try:\n",
        "            drop_off_location = (row['Latitude'], row['Longitude'])  # Ensure these match your actual column names\n",
        "            distance = great_circle(user_location, drop_off_location).miles\n",
        "\n",
        "            if distance < nearest_distance:\n",
        "                nearest_distance = distance\n",
        "                nearest_location = row\n",
        "        except KeyError as e:\n",
        "            print(f\"KeyError: {e} - Check if the column names match correctly.\")\n",
        "            return None, None\n",
        "\n",
        "    return nearest_location, nearest_distance\n",
        "\n",
        "# Example user location\n",
        "user_location = int(input())\n",
        "#user_location = (40.7128, -74.0060)  # Replace with actual coordinates\n",
        "\n",
        "# Get nearest drop-off location\n",
        "nearest, distance = find_nearest_drop_off(user_location)\n",
        "\n",
        "if nearest is not None:\n",
        "    print(f\"Nearest Drop-Off Location: {nearest['Street Name']}, Distance: {distance:.2f} miles\")\n",
        "else:\n",
        "    print(\"No nearest location found.\")\n"
      ],
      "metadata": {
        "colab": {
          "base_uri": "https://localhost:8080/"
        },
        "id": "_MNCZbRZXIwb",
        "outputId": "3b3c2a6d-2c08-46a2-b4d6-bdfce7dd724b"
      },
      "execution_count": 32,
      "outputs": [
        {
          "output_type": "stream",
          "name": "stdout",
          "text": [
            "Nearest Drop-Off Location: Triborough Bridge, Distance: 1.12 miles\n"
          ]
        }
      ]
    },
    {
      "cell_type": "code",
      "source": [
        "from geopy.geocoders import GoogleV3\n",
        "\n",
        "def get_location_from_zip(zip_code):\n",
        "    geolocator = GoogleV3(api_key=\"YOUR_GOOGLE_API_KEY\")\n",
        "    try:\n",
        "        location = geolocator.geocode(zip_code)\n",
        "        return (location.latitude, location.longitude) if location else None\n",
        "    except Exception as e:\n",
        "        print(f\"Error retrieving location: {e}\")\n",
        "        return None\n"
      ],
      "metadata": {
        "id": "8H_LFVb0YmjR"
      },
      "execution_count": 36,
      "outputs": []
    },
    {
      "cell_type": "code",
      "source": [
        "import pandas as pd\n",
        "from geopy.distance import great_circle\n",
        "from geopy.geocoders import Nominatim\n",
        "\n",
        "# Load your CSV file\n",
        "data = pd.read_csv('data.csv')\n",
        "\n",
        "# Clean the column names\n",
        "data.columns = data.columns.str.strip()\n",
        "\n",
        "# Print column names for debugging\n",
        "print(\"Columns in Data:\", data.columns.tolist())\n",
        "\n",
        "# Function to get latitude and longitude from ZIP code\n",
        "def get_location_from_zip(zip_code):\n",
        "    geolocator = Nominatim(user_agent=\"geoapiExercises\")\n",
        "    try:\n",
        "        location = geolocator.geocode(zip_code)\n",
        "        return (location.latitude, location.longitude) if location else None\n",
        "    except Exception as e:\n",
        "        print(f\"Error retrieving location: {e}\")\n",
        "        return None\n",
        "\n",
        "# Function to find the nearest drop-off location\n",
        "def find_nearest_drop_off(user_location):\n",
        "    nearest_location = None\n",
        "    nearest_distance = float('inf')\n",
        "\n",
        "    for index, row in data.iterrows():\n",
        "        drop_off_location = (row['Latitude'], row['Longitude'])  # Adjust column names as necessary\n",
        "        distance = great_circle(user_location, drop_off_location).miles\n",
        "\n",
        "        if distance < nearest_distance:\n",
        "            nearest_distance = distance\n",
        "            nearest_location = row\n",
        "\n",
        "    return nearest_location, nearest_distance\n",
        "\n",
        "# User input for ZIP code\n",
        "user_zip = input(\"Enter your ZIP code: \")\n",
        "\n",
        "# Get user location from ZIP code\n",
        "user_location = get_location_from_zip(user_zip)\n",
        "\n",
        "if user_location:\n",
        "    # Get nearest drop-off location\n",
        "    nearest, distance = find_nearest_drop_off(user_location)\n",
        "\n",
        "    if nearest is not None:\n",
        "        print(f\"Nearest Drop-Off Location: {nearest['Street Name']}, Distance: {distance:.2f} miles\")\n",
        "    else:\n",
        "        print(\"No nearest location found.\")\n",
        "else:\n",
        "    print(\"Could not find the location for the given ZIP code.\")\n"
      ],
      "metadata": {
        "colab": {
          "base_uri": "https://localhost:8080/"
        },
        "id": "gybrgwJzYjX4",
        "outputId": "ddd9ad5f-68ff-44ea-e6d5-6fee986b117e"
      },
      "execution_count": 39,
      "outputs": [
        {
          "output_type": "stream",
          "name": "stdout",
          "text": [
            "Columns in Data: ['City Zip Code', 'Latitude', 'Longitude', 'Street Name']\n",
            "Enter your ZIP code: 10014\n",
            "Nearest Drop-Off Location: Battery Park City Bridge, Distance: 0.67 miles\n"
          ]
        }
      ]
    }
  ]
}